{
  "cells": [
    {
      "cell_type": "markdown",
      "metadata": {
        "id": "view-in-github",
        "colab_type": "text"
      },
      "source": [
        "<a href=\"https://colab.research.google.com/github/Justin21523/edge-deid-studio/blob/main/data-preprocessing/notebooks/data_preprocessing.ipynb\" target=\"_parent\"><img src=\"https://colab.research.google.com/assets/colab-badge.svg\" alt=\"Open In Colab\"/></a>"
      ]
    },
    {
      "cell_type": "markdown",
      "id": "4d875f89",
      "metadata": {
        "id": "4d875f89"
      },
      "source": [
        "# 資料前處理 Prototype\n",
        "\n",
        "- 讀取 data/raw/example.txt\n",
        "- 簡單斷句\n",
        "- 輸出到 data/processed/"
      ]
    },
    {
      "cell_type": "code",
      "execution_count": 3,
      "id": "85eba896",
      "metadata": {
        "colab": {
          "base_uri": "https://localhost:8080/",
          "height": 211
        },
        "id": "85eba896",
        "outputId": "f8dd185d-0e45-4bea-ed3f-b5d911a318a0"
      },
      "outputs": [
        {
          "output_type": "error",
          "ename": "FileNotFoundError",
          "evalue": "[Errno 2] No such file or directory: '/content/edge-deid'",
          "traceback": [
            "\u001b[0;31m---------------------------------------------------------------------------\u001b[0m",
            "\u001b[0;31mFileNotFoundError\u001b[0m                         Traceback (most recent call last)",
            "\u001b[0;32m/tmp/ipython-input-3-3024482629.py\u001b[0m in \u001b[0;36m<cell line: 0>\u001b[0;34m()\u001b[0m\n\u001b[1;32m      2\u001b[0m \u001b[0;34m\u001b[0m\u001b[0m\n\u001b[1;32m      3\u001b[0m \u001b[0;31m# 1. 切到專案根目錄\u001b[0m\u001b[0;34m\u001b[0m\u001b[0;34m\u001b[0m\u001b[0m\n\u001b[0;32m----> 4\u001b[0;31m \u001b[0mos\u001b[0m\u001b[0;34m.\u001b[0m\u001b[0mchdir\u001b[0m\u001b[0;34m(\u001b[0m\u001b[0;34m'/content/edge-deid'\u001b[0m\u001b[0;34m)\u001b[0m\u001b[0;34m\u001b[0m\u001b[0;34m\u001b[0m\u001b[0m\n\u001b[0m\u001b[1;32m      5\u001b[0m \u001b[0mprint\u001b[0m\u001b[0;34m(\u001b[0m\u001b[0;34m'Working dir:'\u001b[0m\u001b[0;34m,\u001b[0m \u001b[0mos\u001b[0m\u001b[0;34m.\u001b[0m\u001b[0mgetcwd\u001b[0m\u001b[0;34m(\u001b[0m\u001b[0;34m)\u001b[0m\u001b[0;34m)\u001b[0m\u001b[0;34m\u001b[0m\u001b[0;34m\u001b[0m\u001b[0m\n\u001b[1;32m      6\u001b[0m \u001b[0;34m\u001b[0m\u001b[0m\n",
            "\u001b[0;31mFileNotFoundError\u001b[0m: [Errno 2] No such file or directory: '/content/edge-deid'"
          ]
        }
      ],
      "source": [
        "import os\n",
        "\n",
        "# 1. 切到專案根目錄\n",
        "os.chdir('/content/edge-deid')\n",
        "print('Working dir:', os.getcwd())\n",
        "\n",
        "# 2. 確保輸出資料夾存在\n",
        "os.makedirs('data/processed', exist_ok=True)\n"
      ]
    },
    {
      "cell_type": "code",
      "source": [
        "# 3. 讀取原始範例\n",
        "with open('data/raw/example.txt', 'r', encoding='utf-8') as f:\n",
        "    text = f.read()\n",
        "\n",
        "# 4. 簡單斷句\n",
        "sentences = [s.strip() for s in text.split('。') if s.strip()]\n",
        "\n",
        "# 5. 輸出到 processed\n",
        "out_path = 'data/processed/example.sentences.txt'\n",
        "with open(out_path, 'w', encoding='utf-8') as f:\n",
        "    f.write('\\n'.join(sentences))\n",
        "\n",
        "print('已寫入：', out_path)\n"
      ],
      "metadata": {
        "id": "4SO4q_W_XjWA"
      },
      "id": "4SO4q_W_XjWA",
      "execution_count": null,
      "outputs": []
    }
  ],
  "metadata": {
    "colab": {
      "provenance": [],
      "include_colab_link": true
    },
    "language_info": {
      "name": "python"
    },
    "kernelspec": {
      "name": "python3",
      "display_name": "Python 3"
    }
  },
  "nbformat": 4,
  "nbformat_minor": 5
}