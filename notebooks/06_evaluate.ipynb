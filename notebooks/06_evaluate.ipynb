{
  "nbformat": 4,
  "nbformat_minor": 0,
  "metadata": {
    "colab": {
      "provenance": [],
      "authorship_tag": "ABX9TyOO2GfHv7Uk5T8MXRAbH36e",
      "include_colab_link": true
    },
    "kernelspec": {
      "name": "python3",
      "display_name": "Python 3"
    },
    "language_info": {
      "name": "python"
    }
  },
  "cells": [
    {
      "cell_type": "markdown",
      "metadata": {
        "id": "view-in-github",
        "colab_type": "text"
      },
      "source": [
        "<a href=\"https://colab.research.google.com/github/Justin21523/edge-deid-studio/blob/feature%2Fadd-ner-evaluation-notebook/notebooks/06_evaluate.ipynb\" target=\"_parent\"><img src=\"https://colab.research.google.com/assets/colab-badge.svg\" alt=\"Open In Colab\"/></a>"
      ]
    },
    {
      "cell_type": "markdown",
      "source": [
        "## 一、環境準備（Cell 1–3）"
      ],
      "metadata": {
        "id": "soiWkMTILV1O"
      }
    },
    {
      "cell_type": "code",
      "execution_count": null,
      "metadata": {
        "id": "vYg4XxgjLUf_"
      },
      "outputs": [],
      "source": [
        "!pip install -q transformers datasets seqeval matplotlib"
      ]
    },
    {
      "cell_type": "code",
      "source": [
        "from google.colab import drive\n",
        "drive.mount('/content/drive')\n",
        "\n",
        "import os\n",
        "os.environ['HF_HOME']          = '/content/drive/MyDrive/hf_cache'\n",
        "os.environ['TRANSFORMERS_CACHE'] = '/content/drive/MyDrive/hf_cache/transformers'\n",
        "os.makedirs(os.environ['TRANSFORMERS_CACHE'], exist_ok=True)"
      ],
      "metadata": {
        "id": "M6hgb3MTLf7k"
      },
      "execution_count": null,
      "outputs": []
    },
    {
      "cell_type": "code",
      "source": [
        "import torch\n",
        "print(\"GPU available:\", torch.cuda.is_available())"
      ],
      "metadata": {
        "id": "KEN7ft3qLjWd"
      },
      "execution_count": null,
      "outputs": []
    },
    {
      "cell_type": "markdown",
      "source": [
        "> **說明**：\n",
        ">\n",
        "> 1. `seqeval` 用來計算 NER 的 Precision/Recall/F1；`matplotlib` 用於圖表視覺化。\n",
        "> 2. Drive 掛載、快取目錄設定與前幾個 notebook 保持一致，確保讀寫相同模型與資料夾。\n",
        "> 3. 確認 GPU 狀態，雖然評估多數可在 CPU 上執行，但若需要大量 batch predict，可切至 GPU。"
      ],
      "metadata": {
        "id": "XQk-hk_4Ln12"
      }
    },
    {
      "cell_type": "markdown",
      "source": [
        "## 二、載入測試資料與模型（Cell 4–6）"
      ],
      "metadata": {
        "id": "MrRDOb-PLpyC"
      }
    },
    {
      "cell_type": "code",
      "source": [
        "from datasets import load_dataset\n",
        "raw_datasets = load_dataset(\"conll2003\")\n",
        "test_dataset = raw_datasets[\"test\"]\n",
        "label_list   = raw_datasets[\"train\"].features[\"ner_tags\"].feature.names\n",
        "print(\"測試集大小：\", len(test_dataset), \"，標籤種類：\", label_list)"
      ],
      "metadata": {
        "id": "az-BF7RoLr6Q"
      },
      "execution_count": null,
      "outputs": []
    },
    {
      "cell_type": "code",
      "source": [
        "from transformers import AutoTokenizer, AutoModelForTokenClassification\n",
        "\n",
        "model_dir = \"models/ner/v1.0\"   # 請改為你微調並儲存 NER 模型的路徑\n",
        "tokenizer = AutoTokenizer.from_pretrained(model_dir)\n",
        "model     = AutoModelForTokenClassification.from_pretrained(model_dir)\n",
        "model.eval()"
      ],
      "metadata": {
        "id": "3vNsJ0YHLxCt"
      },
      "execution_count": null,
      "outputs": []
    },
    {
      "cell_type": "code",
      "source": [
        "# Tokenize 與 label align 函式（與 02_train_ner.ipynb 相同）\n",
        "def tokenize_and_align_labels(examples):\n",
        "    tokenized_inputs = tokenizer(\n",
        "        examples[\"tokens\"],\n",
        "        truncation=True,\n",
        "        is_split_into_words=True\n",
        "    )\n",
        "    aligned_labels = []\n",
        "    for i, labels in enumerate(examples[\"ner_tags\"]):\n",
        "        word_ids = tokenized_inputs.word_ids(batch_index=i)\n",
        "        previous_word_idx = None\n",
        "        label_ids = []\n",
        "        for word_idx in word_ids:\n",
        "            if word_idx is None:\n",
        "                label_ids.append(-100)\n",
        "            elif word_idx != previous_word_idx:\n",
        "                label_ids.append(labels[word_idx])\n",
        "            else:\n",
        "                label_ids.append(-100)\n",
        "            previous_word_idx = word_idx\n",
        "        aligned_labels.append(label_ids)\n",
        "    tokenized_inputs[\"labels\"] = aligned_labels\n",
        "    return tokenized_inputs\n",
        "\n",
        "tokenized_test = test_dataset.map(\n",
        "    tokenize_and_align_labels,\n",
        "    batched=True,\n",
        "    remove_columns=test_dataset.column_names\n",
        ")"
      ],
      "metadata": {
        "id": "VH7n8x0kL1Cx"
      },
      "execution_count": null,
      "outputs": []
    },
    {
      "cell_type": "markdown",
      "source": [
        "> **說明**：\n",
        ">\n",
        "> * 先下載 `conll2003` Test split，並讀出 NER 標籤清單。\n",
        "> * 使用與訓練時相同的 `tokenize_and_align_labels`，確保輸入與標籤映射一致。&#x20;"
      ],
      "metadata": {
        "id": "J__r_3OpL6Jr"
      }
    },
    {
      "cell_type": "markdown",
      "source": [
        "\n",
        "## 三、定義評估流程與指標（Cell 7）"
      ],
      "metadata": {
        "id": "rLynpblEMCdB"
      }
    },
    {
      "cell_type": "code",
      "source": [
        "from transformers import DataCollatorForTokenClassification, Trainer, TrainingArguments\n",
        "from seqeval.metrics import classification_report, precision_score, recall_score, f1_score\n",
        "\n",
        "data_collator = DataCollatorForTokenClassification(tokenizer)\n",
        "\n",
        "# 建立 Trainer 用於 predict\n",
        "training_args = TrainingArguments(\n",
        "    output_dir=\"eval_tmp\",\n",
        "    per_device_eval_batch_size=8,\n",
        "    do_train=False,\n",
        "    do_predict=True\n",
        ")\n",
        "trainer = Trainer(\n",
        "    model=model,\n",
        "    args=training_args,\n",
        "    tokenizer=tokenizer,\n",
        "    data_collator=data_collator\n",
        ")\n",
        "\n",
        "def compute_metrics(predictions, labels):\n",
        "    # predictions: np.ndarray (batch_size, seq_len, num_labels)\n",
        "    # labels: np.ndarray (batch_size, seq_len)\n",
        "    preds = predictions.argmax(-1)\n",
        "    true_labels = [\n",
        "        [label_list[l] for l in label_seq if l != -100]\n",
        "        for label_seq in labels\n",
        "    ]\n",
        "    true_preds = [\n",
        "        [label_list[p] for (p, l) in zip(pred_seq, lab_seq) if l != -100]\n",
        "        for pred_seq, lab_seq in zip(preds, labels)\n",
        "    ]\n",
        "    return {\n",
        "        \"precision\": precision_score(true_labels, true_preds),\n",
        "        \"recall\":    recall_score(true_labels, true_preds),\n",
        "        \"f1\":        f1_score(true_labels, true_preds),\n",
        "        \"report\":    classification_report(true_labels, true_preds)\n",
        "    }\n"
      ],
      "metadata": {
        "id": "V7QTyvaVMEj0"
      },
      "execution_count": null,
      "outputs": []
    },
    {
      "cell_type": "markdown",
      "source": [
        "> **說明**：\n",
        ">\n",
        "> * `Trainer.predict()` 會回傳 `(predictions, labels, metrics)`。\n",
        "> * 利用 `seqeval` 計算整體與每個 entity 的 P/R/F1，並產出詳細報告。&#x20;"
      ],
      "metadata": {
        "id": "H8WT3XcMMGsy"
      }
    },
    {
      "cell_type": "markdown",
      "source": [
        "## 四、執行預測並計算指標（Cell 8）"
      ],
      "metadata": {
        "id": "6x0j4LwqMIIi"
      }
    },
    {
      "cell_type": "code",
      "source": [
        "# 真正執行前先註解，確認語法\n",
        "# predictions, labels, _ = trainer.predict(tokenized_test)\n",
        "\n",
        "# metrics = compute_metrics(predictions, labels)\n",
        "# print(\"Overall Precision:\", metrics[\"precision\"])\n",
        "# print(\"Overall Recall:\",    metrics[\"recall\"])\n",
        "# print(\"Overall F1:\",        metrics[\"f1\"])\n",
        "# print(metrics[\"report\"])"
      ],
      "metadata": {
        "id": "OdVZCUmzMJx8"
      },
      "execution_count": null,
      "outputs": []
    },
    {
      "cell_type": "markdown",
      "source": [
        "> **說明**：\n",
        ">\n",
        "> * 將 `trainer.predict()` 註解起來，待切到 GPU 環境再啟用。\n",
        "> * `compute_metrics` 將自動過濾 `-100` 標籤，對齊子詞後只評估首個 sub-token。"
      ],
      "metadata": {
        "id": "kFF0R4BeMMw2"
      }
    },
    {
      "cell_type": "markdown",
      "source": [
        "## 五、視覺化比較不同模型版本（Cell 9）"
      ],
      "metadata": {
        "id": "mSeL8NFtMOHb"
      }
    },
    {
      "cell_type": "code",
      "source": [
        "import matplotlib.pyplot as plt\n",
        "\n",
        "# 假設你對比了兩個版本 (v1.0 vs v1.1) 的整體 F1\n",
        "versions = [\"v1.0\", \"v1.1\"]\n",
        "f1_scores = [0.89, 0.91]  # 例子，替換成真實結果\n",
        "\n",
        "plt.figure(figsize=(6,4))\n",
        "plt.bar(versions, f1_scores)\n",
        "plt.xlabel(\"Model Version\")\n",
        "plt.ylabel(\"F1 Score\")\n",
        "plt.title(\"NER Model F1 Comparison\")\n",
        "# plt.show()  # 在 Colab 上會自動渲染"
      ],
      "metadata": {
        "id": "zW6qj01oMRM7"
      },
      "execution_count": null,
      "outputs": []
    },
    {
      "cell_type": "markdown",
      "source": [
        "\n",
        "> **說明**：\n",
        ">\n",
        "> * 以長條圖呈現不同版本整體 F1，只要把 `f1_scores` 改為實際讀取的結果即可。\n",
        "> * 也可以畫細分 label 的條形圖，程式碼結構相同。"
      ],
      "metadata": {
        "id": "pepZwL0JMT6M"
      }
    },
    {
      "cell_type": "markdown",
      "source": [
        "## 六、小結與下一步（Cell 10）"
      ],
      "metadata": {
        "id": "MksrZ8KCMWe9"
      }
    },
    {
      "cell_type": "markdown",
      "source": [
        "- ✅ NER 測試集上計算出了 Precision/Recall/F1 指標  \n",
        "- ✅ 可視化不同模型版本表現  \n",
        "- ‼️ 等到 GPU 環境後，請解開 `trainer.predict()` 的註解，並填入真實指標到可視化程式碼中  "
      ],
      "metadata": {
        "id": "oKPk8PcRMZaG"
      }
    }
  ]
}