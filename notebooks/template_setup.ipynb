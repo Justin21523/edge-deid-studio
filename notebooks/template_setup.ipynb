{
  "cells": [
    {
      "cell_type": "markdown",
      "metadata": {
        "id": "view-in-github",
        "colab_type": "text"
      },
      "source": [
        "<a href=\"https://colab.research.google.com/github/Justin21523/edge-deid-studio/blob/main/notebooks/template_setup.ipynb\" target=\"_parent\"><img src=\"https://colab.research.google.com/assets/colab-badge.svg\" alt=\"Open In Colab\"/></a>"
      ]
    },
    {
      "cell_type": "markdown",
      "metadata": {
        "id": "h2x6o35HwbK0"
      },
      "source": [
        "# 📦 Edge-DeID Studio Colab Template\n",
        "\n",
        "> 1. Clone 專案、2. 安裝依賴、3. 掛載 Drive、4. HF 登入、5. 檢查 GPU\n"
      ]
    },
    {
      "cell_type": "code",
      "execution_count": 11,
      "metadata": {
        "colab": {
          "base_uri": "https://localhost:8080/"
        },
        "id": "WNpGhHqTwY4w",
        "outputId": "33f2c5e4-fbfe-45a0-cc20-0e7e667dca8a"
      },
      "outputs": [
        {
          "output_type": "stream",
          "name": "stdout",
          "text": [
            "Cloning into 'edge-deid-studio'...\n",
            "remote: Enumerating objects: 80, done.\u001b[K\n",
            "remote: Counting objects: 100% (80/80), done.\u001b[K\n",
            "remote: Compressing objects: 100% (65/65), done.\u001b[K\n",
            "remote: Total 80 (delta 23), reused 46 (delta 7), pack-reused 0 (from 0)\u001b[K\n",
            "Receiving objects: 100% (80/80), 22.65 KiB | 579.00 KiB/s, done.\n",
            "Resolving deltas: 100% (23/23), done.\n",
            "/content/edge-deid-studio/edge-deid-studio\n"
          ]
        }
      ],
      "source": [
        "# 1️⃣ Clone repo & 切到正確目錄（如已存在就不重複）\n",
        "import os\n",
        "if not os.path.exists('edge-deid-studio'):\n",
        "    !git clone --branch main https://github.com/Justin21523/edge-deid-studio.git\n",
        "%cd edge-deid-studio\n",
        "\n",
        "# 2️⃣ 安裝所有套件\n",
        "!pip install -q -r requirements.txt"
      ]
    },
    {
      "cell_type": "code",
      "execution_count": 12,
      "metadata": {
        "colab": {
          "base_uri": "https://localhost:8080/"
        },
        "id": "dNolrEJKwgFW",
        "outputId": "5d7f9a7b-2862-4ccd-84a3-e7fd0d9abd5e"
      },
      "outputs": [
        {
          "output_type": "stream",
          "name": "stdout",
          "text": [
            "Drive already mounted at /content/drive; to attempt to forcibly remount, call drive.mount(\"/content/drive\", force_remount=True).\n"
          ]
        }
      ],
      "source": [
        "# 3️⃣ （如有需要存取大型資料或模型）掛載 Google Drive\n",
        "from google.colab import drive\n",
        "drive.mount('/content/drive')\n",
        "\n",
        "# 把 Hugging Face 的快取目錄指到 Drive 中\n",
        "os.environ['HF_HOME'] = '/content/drive/MyDrive/hf_cache'\n",
        "os.environ['TRANSFORMERS_CACHE'] = '/content/drive/MyDrive/hf_cache/transformers'\n",
        "os.makedirs(os.environ['TRANSFORMERS_CACHE'], exist_ok=True)"
      ]
    },
    {
      "cell_type": "code",
      "execution_count": 13,
      "metadata": {
        "id": "TyK1WlNOzOmg"
      },
      "outputs": [],
      "source": [
        "!pip install -q huggingface_hub transformers"
      ]
    },
    {
      "cell_type": "code",
      "execution_count": 14,
      "metadata": {
        "colab": {
          "base_uri": "https://localhost:8080/"
        },
        "id": "hvdc8SidzUth",
        "outputId": "dfc3a9b7-b210-4da9-9ab5-1a28bd11e89f"
      },
      "outputs": [
        {
          "name": "stdout",
          "output_type": "stream",
          "text": [
            "Token: ··········\n"
          ]
        },
        {
          "output_type": "stream",
          "name": "stderr",
          "text": [
            "Note: Environment variable`HF_TOKEN` is set and is the current active token independently from the token you've just configured.\n",
            "WARNING:huggingface_hub._login:Note: Environment variable`HF_TOKEN` is set and is the current active token independently from the token you've just configured.\n"
          ]
        }
      ],
      "source": [
        "from huggingface_hub import login\n",
        "from getpass import getpass\n",
        "\n",
        "\n",
        "os.environ[\"HF_TOKEN\"] = getpass(\"Token: \")\n",
        "login(token=os.environ[\"HF_TOKEN\"])"
      ]
    },
    {
      "cell_type": "code",
      "execution_count": 15,
      "metadata": {
        "id": "7oVgIQBOwjfU"
      },
      "outputs": [],
      "source": [
        "os.environ[\"HF_HOME\"] = \"/content/drive/MyDrive/hf_cache\"\n",
        "os.environ[\"TRANSFORMERS_CACHE\"] = \"/content/drive/MyDrive/hf_cache/transformers\"\n",
        "os.makedirs(os.environ[\"TRANSFORMERS_CACHE\"], exist_ok=True)\n"
      ]
    },
    {
      "cell_type": "code",
      "execution_count": 16,
      "metadata": {
        "colab": {
          "base_uri": "https://localhost:8080/"
        },
        "id": "lOzC35m31HOp",
        "outputId": "9a09670e-9c7c-4bf6-f67c-3f023fa2d60d"
      },
      "outputs": [
        {
          "output_type": "stream",
          "name": "stdout",
          "text": [
            "模型已下載並快取到： /content/drive/MyDrive/hf_cache/transformers\n"
          ]
        }
      ],
      "source": [
        "from transformers import AutoTokenizer, AutoModel\n",
        "\n",
        "# 1. 載入原始模型\n",
        "tokenizer = AutoTokenizer.from_pretrained(\"bert-base-uncased\")\n",
        "model     = AutoModel.from_pretrained(\"bert-base-uncased\")\n",
        "\n",
        "print(\"模型已下載並快取到：\", os.environ[\"TRANSFORMERS_CACHE\"])"
      ]
    },
    {
      "cell_type": "code",
      "execution_count": 17,
      "metadata": {
        "colab": {
          "base_uri": "https://localhost:8080/"
        },
        "id": "yyDrb6IL1hi3",
        "outputId": "f91d1d01-cd12-4e93-f397-12628cc90131"
      },
      "outputs": [
        {
          "output_type": "stream",
          "name": "stdout",
          "text": [
            "已將測試模型與 tokenizer 存到：models/ner/test-bert-save\n"
          ]
        }
      ],
      "source": [
        "from transformers import AutoTokenizer, AutoModelForTokenClassification\n",
        "\n",
        "# 2. 設定輸出路徑（NER 用例）\n",
        "output_dir = \"models/ner/test-bert-save\"\n",
        "os.makedirs(output_dir, exist_ok=True)\n",
        "\n",
        "# 3. 存檔\n",
        "tokenizer.save_pretrained(output_dir)\n",
        "model.save_pretrained(output_dir)\n",
        "\n",
        "print(f\"已將測試模型與 tokenizer 存到：{output_dir}\")\n"
      ]
    }
  ],
  "metadata": {
    "colab": {
      "provenance": [],
      "include_colab_link": true
    },
    "kernelspec": {
      "display_name": "Python 3",
      "name": "python3"
    },
    "language_info": {
      "name": "python"
    }
  },
  "nbformat": 4,
  "nbformat_minor": 0
}