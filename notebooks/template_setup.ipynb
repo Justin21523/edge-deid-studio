{
  "nbformat": 4,
  "nbformat_minor": 0,
  "metadata": {
    "colab": {
      "provenance": [],
      "authorship_tag": "ABX9TyOF5IHkx4bk+odmVMqzzive",
      "include_colab_link": true
    },
    "kernelspec": {
      "name": "python3",
      "display_name": "Python 3"
    },
    "language_info": {
      "name": "python"
    }
  },
  "cells": [
    {
      "cell_type": "markdown",
      "metadata": {
        "id": "view-in-github",
        "colab_type": "text"
      },
      "source": [
        "<a href=\"https://colab.research.google.com/github/Justin21523/edge-deid-studio/blob/main/notebooks/template_setup.ipynb\" target=\"_parent\"><img src=\"https://colab.research.google.com/assets/colab-badge.svg\" alt=\"Open In Colab\"/></a>"
      ]
    },
    {
      "cell_type": "markdown",
      "source": [
        "# 📦 Edge-DeID Studio Colab Template\n",
        "\n",
        "[![Open in Colab](https://colab.research.google.com/assets/colab-badge.svg)](https://colab.research.google.com/github/Justin21523/edge-deid-studio/blob/main/notebooks/template_setup.ipynb)\n",
        "\n",
        "> 1. Clone 專案、2. 安裝依賴、3. 掛載 Drive、4. HF 登入、5. 檢查 GPU\n"
      ],
      "metadata": {
        "id": "h2x6o35HwbK0"
      }
    },
    {
      "cell_type": "code",
      "execution_count": null,
      "metadata": {
        "id": "WNpGhHqTwY4w"
      },
      "outputs": [],
      "source": [
        "# 1️⃣ Clone repo & 切到正確目錄（如已存在就不重複）\n",
        "import os\n",
        "if not os.path.exists('edge-deid-studio'):\n",
        "    !git clone --branch main https://github.com/Justin21523/edge-deid-studio.git\n",
        "%cd edge-deid-studio\n",
        "\n",
        "# 2️⃣ 安裝所有套件\n",
        "!pip install -q -r requirements.txt"
      ]
    },
    {
      "cell_type": "code",
      "source": [
        "# 3️⃣ （如有需要存取大型資料或模型）掛載 Google Drive\n",
        "from google.colab import drive\n",
        "drive.mount('/content/drive')\n"
      ],
      "metadata": {
        "id": "dNolrEJKwgFW"
      },
      "execution_count": null,
      "outputs": []
    },
    {
      "cell_type": "code",
      "source": [
        "# 4️⃣ 登入 Huggingface（只要在第一次 runtime 跑一次）\n",
        "from huggingface_hub import login\n",
        "# 你可以把 token 存在 Colab 變數裡，或直接貼在引號裡\n",
        "login(token=\"YOUR_HF_TOKEN\")\n"
      ],
      "metadata": {
        "id": "QQfqsSDcwiXN"
      },
      "execution_count": null,
      "outputs": []
    },
    {
      "cell_type": "code",
      "source": [
        "# 5️⃣ 檢查 GPU\n",
        "import torch\n",
        "print(\"GPU available:\", torch.cuda.is_available())\n"
      ],
      "metadata": {
        "id": "7oVgIQBOwjfU"
      },
      "execution_count": null,
      "outputs": []
    }
  ]
}